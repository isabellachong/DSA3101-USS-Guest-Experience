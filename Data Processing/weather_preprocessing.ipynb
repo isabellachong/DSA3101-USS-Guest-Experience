{
 "cells": [
  {
   "cell_type": "code",
   "execution_count": 2,
   "metadata": {},
   "outputs": [],
   "source": [
    "import pandas as pd\n",
    "import numpy as np\n",
    "import os\n",
    "from pathlib import Path\n",
    "from datetime import time"
   ]
  },
  {
   "cell_type": "markdown",
   "metadata": {},
   "source": [
    "## 1. Load data from CSVs"
   ]
  },
  {
   "cell_type": "code",
   "execution_count": null,
   "metadata": {},
   "outputs": [],
   "source": [
    "file_path = \"/Users/cheryl/Downloads/DSA3101/data/sentosa_weather_raw_data.csv\"\n",
    "df = pd.read_csv(file_path, na_values=['-'])\n",
    "\n",
    "file_path = \"/Users/cheryl/Downloads/DSA3101/data/daily_rainfall_S60_2024.csv\"\n",
    "webscraped_df = pd.read_csv(file_path)"
   ]
  },
  {
   "cell_type": "markdown",
   "metadata": {},
   "source": [
    "## 2. Fill in Missing Values\n",
    "(a) Missing mean rainfall\n",
    "- Temperature data from webscraped_df will replace null values in df\n",
    "\n",
    "(b) Missing mean temperature\n",
    "- Calculate average temperature to fill in null values"
   ]
  },
  {
   "cell_type": "code",
   "execution_count": null,
   "metadata": {},
   "outputs": [
    {
     "name": "stdout",
     "output_type": "stream",
     "text": [
      "            Station  Year  Month  Day  Daily Rainfall Total (mm)  \\\n",
      "0    Sentosa Island  2024      1    1                        3.8   \n",
      "1    Sentosa Island  2024      1    2                        0.0   \n",
      "2    Sentosa Island  2024      1    3                        0.0   \n",
      "3    Sentosa Island  2024      1    4                        0.0   \n",
      "4    Sentosa Island  2024      1    5                        0.0   \n",
      "..              ...   ...    ...  ...                        ...   \n",
      "420  Sentosa Island  2025      2   24                        1.4   \n",
      "421  Sentosa Island  2025      2   25                        0.8   \n",
      "422  Sentosa Island  2025      2   26                        1.0   \n",
      "423  Sentosa Island  2025      2   27                        0.0   \n",
      "424  Sentosa Island  2025      2   28                        0.0   \n",
      "\n",
      "     Mean Temperature (°C)       Date  \n",
      "0                     26.4 2024-01-01  \n",
      "1                     28.5 2024-01-02  \n",
      "2                     28.5 2024-01-03  \n",
      "3                     28.5 2024-01-04  \n",
      "4                     28.5 2024-01-05  \n",
      "..                     ...        ...  \n",
      "420                   28.1 2025-02-24  \n",
      "421                   27.8 2025-02-25  \n",
      "422                   28.0 2025-02-26  \n",
      "423                   28.7 2025-02-27  \n",
      "424                   28.7 2025-02-28  \n",
      "\n",
      "[425 rows x 7 columns]\n"
     ]
    }
   ],
   "source": [
    "# Convert Date to datetime\n",
    "df['Date'] = pd.to_datetime(df['Date'])\n",
    "webscraped_df['Date'] = pd.to_datetime(webscraped_df['Date'])\n",
    "\n",
    "# Define a function to fill missing rainfall values\n",
    "def fill_missing_rainfall(df, webscraped_df):\n",
    "    df = df.merge(webscraped_df[[\"Date\", \"Total Rainfall S60 (mm)\"]], on=\"Date\", how=\"left\")\n",
    "    df[\"Daily Rainfall Total (mm)\"] = df[\"Daily Rainfall Total (mm)\"].fillna(df[\"Total Rainfall S60 (mm)\"])\n",
    "\n",
    "    # Drop the reference column\n",
    "    df.drop(columns=[\"Total Rainfall S60 (mm)\"], inplace=True)\n",
    "    return df\n",
    "\n",
    "df= fill_missing_rainfall(df, webscraped_df)\n",
    "\n",
    "# Fill missing Mean Temperature values with mean\n",
    "df[\"Mean Temperature (°C)\"] = df[\"Mean Temperature (°C)\"].fillna(df[\"Mean Temperature (°C)\"].mean()).round(1)\n",
    "df.to_csv(\"weather_cleandata.csv\", index=False)"
   ]
  }
 ],
 "metadata": {
  "kernelspec": {
   "display_name": "Python 3",
   "language": "python",
   "name": "python3"
  },
  "language_info": {
   "codemirror_mode": {
    "name": "ipython",
    "version": 3
   },
   "file_extension": ".py",
   "mimetype": "text/x-python",
   "name": "python",
   "nbconvert_exporter": "python",
   "pygments_lexer": "ipython3",
   "version": "3.11.4"
  }
 },
 "nbformat": 4,
 "nbformat_minor": 2
}
